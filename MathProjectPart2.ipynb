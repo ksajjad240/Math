{
 "cells": [
  {
   "cell_type": "markdown",
   "metadata": {},
   "source": [
    "### Math Honors Project (Part2)"
   ]
  },
  {
   "cell_type": "markdown",
   "metadata": {},
   "source": [
    "#### Question 1:"
   ]
  },
  {
   "cell_type": "markdown",
   "metadata": {},
   "source": [
    "#### Use your equations from Lesson 1 for the Brick candle and the Egyptian candle to create a graph of two polynomial functions so that you can compare volumes for different values of x. Compare the volumes.\n",
    "\n",
    "#### Brick Function $f_1(x) = x^3-x^2$\n",
    "#### Pyramid Function $g_1(x) = 7x^2$"
   ]
  },
  {
   "cell_type": "code",
   "execution_count": 84,
   "metadata": {},
   "outputs": [],
   "source": [
    "import pandas as pd\n",
    "import matplotlib.pyplot as plt\n",
    "import math\n",
    "import numpy as np\n",
    "from IPython.display import display, Math, Latex"
   ]
  },
  {
   "cell_type": "code",
   "execution_count": 85,
   "metadata": {},
   "outputs": [],
   "source": [
    "def f1(x):\n",
    "    return (x**3 - x**2)"
   ]
  },
  {
   "cell_type": "code",
   "execution_count": 86,
   "metadata": {},
   "outputs": [],
   "source": [
    "def g1(x):\n",
    "    return (7*x**2)"
   ]
  },
  {
   "cell_type": "code",
   "execution_count": 87,
   "metadata": {},
   "outputs": [
    {
     "data": {
      "text/html": [
       "<div>\n",
       "<style scoped>\n",
       "    .dataframe tbody tr th:only-of-type {\n",
       "        vertical-align: middle;\n",
       "    }\n",
       "\n",
       "    .dataframe tbody tr th {\n",
       "        vertical-align: top;\n",
       "    }\n",
       "\n",
       "    .dataframe thead th {\n",
       "        text-align: right;\n",
       "    }\n",
       "</style>\n",
       "<table border=\"1\" class=\"dataframe\">\n",
       "  <thead>\n",
       "    <tr style=\"text-align: right;\">\n",
       "      <th></th>\n",
       "      <th>Input</th>\n",
       "      <th>Brick_Function</th>\n",
       "      <th>Pyramid_Function</th>\n",
       "    </tr>\n",
       "  </thead>\n",
       "  <tbody>\n",
       "    <tr>\n",
       "      <th>0</th>\n",
       "      <td>0</td>\n",
       "      <td>0</td>\n",
       "      <td>0</td>\n",
       "    </tr>\n",
       "    <tr>\n",
       "      <th>1</th>\n",
       "      <td>1</td>\n",
       "      <td>0</td>\n",
       "      <td>7</td>\n",
       "    </tr>\n",
       "    <tr>\n",
       "      <th>2</th>\n",
       "      <td>2</td>\n",
       "      <td>4</td>\n",
       "      <td>28</td>\n",
       "    </tr>\n",
       "    <tr>\n",
       "      <th>3</th>\n",
       "      <td>3</td>\n",
       "      <td>18</td>\n",
       "      <td>63</td>\n",
       "    </tr>\n",
       "    <tr>\n",
       "      <th>4</th>\n",
       "      <td>4</td>\n",
       "      <td>48</td>\n",
       "      <td>112</td>\n",
       "    </tr>\n",
       "    <tr>\n",
       "      <th>5</th>\n",
       "      <td>5</td>\n",
       "      <td>100</td>\n",
       "      <td>175</td>\n",
       "    </tr>\n",
       "    <tr>\n",
       "      <th>6</th>\n",
       "      <td>6</td>\n",
       "      <td>180</td>\n",
       "      <td>252</td>\n",
       "    </tr>\n",
       "    <tr>\n",
       "      <th>7</th>\n",
       "      <td>7</td>\n",
       "      <td>294</td>\n",
       "      <td>343</td>\n",
       "    </tr>\n",
       "    <tr>\n",
       "      <th>8</th>\n",
       "      <td>8</td>\n",
       "      <td>448</td>\n",
       "      <td>448</td>\n",
       "    </tr>\n",
       "    <tr>\n",
       "      <th>9</th>\n",
       "      <td>9</td>\n",
       "      <td>648</td>\n",
       "      <td>567</td>\n",
       "    </tr>\n",
       "    <tr>\n",
       "      <th>10</th>\n",
       "      <td>10</td>\n",
       "      <td>900</td>\n",
       "      <td>700</td>\n",
       "    </tr>\n",
       "  </tbody>\n",
       "</table>\n",
       "</div>"
      ],
      "text/plain": [
       "    Input  Brick_Function  Pyramid_Function\n",
       "0       0               0                 0\n",
       "1       1               0                 7\n",
       "2       2               4                28\n",
       "3       3              18                63\n",
       "4       4              48               112\n",
       "5       5             100               175\n",
       "6       6             180               252\n",
       "7       7             294               343\n",
       "8       8             448               448\n",
       "9       9             648               567\n",
       "10     10             900               700"
      ]
     },
     "execution_count": 87,
     "metadata": {},
     "output_type": "execute_result"
    }
   ],
   "source": [
    "data = list()\n",
    "for i in range(0,11): \n",
    "    data.append((i, f1(i), g1(i)))\n",
    "    \n",
    "df1 = pd.DataFrame(data)\n",
    "df1.columns = ['Input','Brick_Function','Pyramid_Function']\n",
    "df1"
   ]
  },
  {
   "cell_type": "code",
   "execution_count": 88,
   "metadata": {},
   "outputs": [
    {
     "data": {
      "image/png": "[encoded data removed]",
      "text/plain": [
       "<Figure size 432x288 with 1 Axes>"
      ]
     },
     "metadata": {
      "needs_background": "light"
     },
     "output_type": "display_data"
    }
   ],
   "source": [
    "df1.plot(kind='scatter', \n",
    "        x='Input', \n",
    "        y='Brick_Function', \n",
    "        color='red')\n",
    "plt.title('Input vs. Function')\n",
    "plt.xlabel('Input')\n",
    "plt.ylabel('Function')\n",
    "labels = list(df['Brick_Function'].tolist())\n",
    "plt.xticks(np.arange(1, 10, step=1.0), labels, rotation='vertical')\n",
    "plt.show()"
   ]
  },
  {
   "cell_type": "code",
   "execution_count": 89,
   "metadata": {},
   "outputs": [
    {
     "data": {
      "image/png": "[encoded data removed]",
      "text/plain": [
       "<Figure size 432x288 with 1 Axes>"
      ]
     },
     "metadata": {
      "needs_background": "light"
     },
     "output_type": "display_data"
    }
   ],
   "source": [
    "df1.plot(kind='scatter', \n",
    "        x='Input', \n",
    "        y='Pyramid_Function', \n",
    "        color='blue')\n",
    "plt.title('Input vs. Pyramid Function')\n",
    "plt.xlabel('Input')\n",
    "plt.ylabel('Pyramid Function')\n",
    "labels = list(df['Pyramid_Function'].tolist())\n",
    "plt.xticks(np.arange(1, 10, step=1.0), labels, rotation='vertical')\n",
    "plt.show()"
   ]
  },
  {
   "cell_type": "code",
   "execution_count": 90,
   "metadata": {},
   "outputs": [
    {
     "data": {
      "image/png": "[encoded data removed]",
      "text/plain": [
       "<Figure size 432x288 with 1 Axes>"
      ]
     },
     "metadata": {
      "needs_background": "light"
     },
     "output_type": "display_data"
    }
   ],
   "source": [
    "t = np.linspace(0, 11)\n",
    "f1_val = f1(t)\n",
    "g1_val = g1(t)\n",
    "plt.title('Input vs. Functions')\n",
    "plt.xlabel('Input')\n",
    "plt.ylabel('Brick/Pyramid Functions')\n",
    "plt.plot(t, f1_val, 'y', marker='o', markersize=3, markeredgecolor='r', label='Brick Function')\n",
    "plt.plot(t, g1_val, 'c', marker='o', markersize=3, markeredgecolor='b', label='Pyramid Function')\n",
    "plt.xlim(0, 11)\n",
    "plt.legend(loc='upper left')\n",
    "plt.show()"
   ]
  },
  {
   "cell_type": "markdown",
   "metadata": {},
   "source": [
    "#### Question 2:\n",
    "#### Use the graph from Question 1 to identify where the volumes are equal. Confirm this value by writing and solving an equation that describes the difference between the volumes of the candle types."
   ]
  },
  {
   "cell_type": "markdown",
   "metadata": {},
   "source": [
    "From Question 1, we can see that the curves representing $f_1(x)$ and $g_1(x)$ intersect at $(8, 448)$. <br>\n",
    "\n",
    "This can also be confirmed by substituting $x=8$ in both equations.\n",
    "So, let's solve the functions for $x = 8$ <br>\n",
    "\n",
    "Brick Function $f_1(x) = x^3 - x^2$ <br>\n",
    "$f_1(8) = (8^3 - 8^2) = (512 - 64) = 448$ <br>\n",
    "\n",
    "Pyramid Function $g_1(x) = 7x^2$ <br>\n",
    "$g_1(8) = (7 * 8^2) = (7 * 64) = 448$ <br>\n",
    "\n",
    "It is confirmed that for $x = 8$ both functions have the same volume $448$"
   ]
  },
  {
   "cell_type": "markdown",
   "metadata": {},
   "source": [
    "#### Question 3:\n",
    "#### The same wax will be used to make each candle, and it costs 3/4 of 1¢ per cubic centimeter. Write polynomial functions to show the cost of the wax that is used for making each candle for different values of x. Graph the functions. Discuss the costs."
   ]
  },
  {
   "cell_type": "markdown",
   "metadata": {},
   "source": [
    "Brick Function $f_2(x) = 0.75 (x^3 - x^2) = (0.75*x^3 - 0.75*x^2)$ <br>\n",
    "Pyramid Function $g_2(x) = 0.75 (7*x^2) = 5.25*x^2$"
   ]
  },
  {
   "cell_type": "code",
   "execution_count": 91,
   "metadata": {},
   "outputs": [],
   "source": [
    "def f2(x):\n",
    "    return (0.75*x**3 - 0.75*x**2)"
   ]
  },
  {
   "cell_type": "code",
   "execution_count": 92,
   "metadata": {},
   "outputs": [],
   "source": [
    "def g2(x):\n",
    "    return (0.75*7*x**2)"
   ]
  },
  {
   "cell_type": "code",
   "execution_count": 93,
   "metadata": {},
   "outputs": [
    {
     "data": {
      "text/html": [
       "<div>\n",
       "<style scoped>\n",
       "    .dataframe tbody tr th:only-of-type {\n",
       "        vertical-align: middle;\n",
       "    }\n",
       "\n",
       "    .dataframe tbody tr th {\n",
       "        vertical-align: top;\n",
       "    }\n",
       "\n",
       "    .dataframe thead th {\n",
       "        text-align: right;\n",
       "    }\n",
       "</style>\n",
       "<table border=\"1\" class=\"dataframe\">\n",
       "  <thead>\n",
       "    <tr style=\"text-align: right;\">\n",
       "      <th></th>\n",
       "      <th>Input</th>\n",
       "      <th>Brick_Function</th>\n",
       "      <th>Pyramid_Function</th>\n",
       "    </tr>\n",
       "  </thead>\n",
       "  <tbody>\n",
       "    <tr>\n",
       "      <th>0</th>\n",
       "      <td>0</td>\n",
       "      <td>0.0</td>\n",
       "      <td>0.00</td>\n",
       "    </tr>\n",
       "    <tr>\n",
       "      <th>1</th>\n",
       "      <td>1</td>\n",
       "      <td>0.0</td>\n",
       "      <td>5.25</td>\n",
       "    </tr>\n",
       "    <tr>\n",
       "      <th>2</th>\n",
       "      <td>2</td>\n",
       "      <td>3.0</td>\n",
       "      <td>21.00</td>\n",
       "    </tr>\n",
       "    <tr>\n",
       "      <th>3</th>\n",
       "      <td>3</td>\n",
       "      <td>13.5</td>\n",
       "      <td>47.25</td>\n",
       "    </tr>\n",
       "    <tr>\n",
       "      <th>4</th>\n",
       "      <td>4</td>\n",
       "      <td>36.0</td>\n",
       "      <td>84.00</td>\n",
       "    </tr>\n",
       "    <tr>\n",
       "      <th>5</th>\n",
       "      <td>5</td>\n",
       "      <td>75.0</td>\n",
       "      <td>131.25</td>\n",
       "    </tr>\n",
       "    <tr>\n",
       "      <th>6</th>\n",
       "      <td>6</td>\n",
       "      <td>135.0</td>\n",
       "      <td>189.00</td>\n",
       "    </tr>\n",
       "    <tr>\n",
       "      <th>7</th>\n",
       "      <td>7</td>\n",
       "      <td>220.5</td>\n",
       "      <td>257.25</td>\n",
       "    </tr>\n",
       "    <tr>\n",
       "      <th>8</th>\n",
       "      <td>8</td>\n",
       "      <td>336.0</td>\n",
       "      <td>336.00</td>\n",
       "    </tr>\n",
       "    <tr>\n",
       "      <th>9</th>\n",
       "      <td>9</td>\n",
       "      <td>486.0</td>\n",
       "      <td>425.25</td>\n",
       "    </tr>\n",
       "    <tr>\n",
       "      <th>10</th>\n",
       "      <td>10</td>\n",
       "      <td>675.0</td>\n",
       "      <td>525.00</td>\n",
       "    </tr>\n",
       "  </tbody>\n",
       "</table>\n",
       "</div>"
      ],
      "text/plain": [
       "    Input  Brick_Function  Pyramid_Function\n",
       "0       0             0.0              0.00\n",
       "1       1             0.0              5.25\n",
       "2       2             3.0             21.00\n",
       "3       3            13.5             47.25\n",
       "4       4            36.0             84.00\n",
       "5       5            75.0            131.25\n",
       "6       6           135.0            189.00\n",
       "7       7           220.5            257.25\n",
       "8       8           336.0            336.00\n",
       "9       9           486.0            425.25\n",
       "10     10           675.0            525.00"
      ]
     },
     "execution_count": 93,
     "metadata": {},
     "output_type": "execute_result"
    }
   ],
   "source": [
    "data = list()\n",
    "for i in range(0,11): \n",
    "    data.append((i, f2(i), g2(i)))\n",
    "    \n",
    "df2 = pd.DataFrame(data)\n",
    "df2.columns = ['Input','Brick_Function','Pyramid_Function']\n",
    "df2"
   ]
  },
  {
   "cell_type": "code",
   "execution_count": 94,
   "metadata": {},
   "outputs": [
    {
     "data": {
      "image/png": "[encoded data removed]",
      "text/plain": [
       "<Figure size 432x288 with 1 Axes>"
      ]
     },
     "metadata": {
      "needs_background": "light"
     },
     "output_type": "display_data"
    }
   ],
   "source": [
    "df2.plot(kind='scatter', \n",
    "        x='Input', \n",
    "        y='Brick_Function', \n",
    "        color='red')\n",
    "plt.title('Input vs. Function')\n",
    "plt.xlabel('Input')\n",
    "plt.ylabel('Function')\n",
    "labels = list(df['Brick_Function'].tolist())\n",
    "plt.xticks(np.arange(1, 10, step=1.0), labels, rotation='vertical')\n",
    "plt.show()"
   ]
  },
  {
   "cell_type": "code",
   "execution_count": 95,
   "metadata": {},
   "outputs": [
    {
     "data": {
      "image/png": "[encoded data removed]",
      "text/plain": [
       "<Figure size 432x288 with 1 Axes>"
      ]
     },
     "metadata": {
      "needs_background": "light"
     },
     "output_type": "display_data"
    }
   ],
   "source": [
    "df2.plot(kind='scatter', \n",
    "        x='Input', \n",
    "        y='Pyramid_Function', \n",
    "        color='blue')\n",
    "plt.title('Input vs. Pyramid Function')\n",
    "plt.xlabel('Input')\n",
    "plt.ylabel('Pyramid Function')\n",
    "labels = list(df['Pyramid_Function'].tolist())\n",
    "plt.xticks(np.arange(1, 10, step=1.0), labels, rotation='vertical')\n",
    "plt.show()"
   ]
  },
  {
   "cell_type": "code",
   "execution_count": 96,
   "metadata": {},
   "outputs": [
    {
     "data": {
      "image/png": "[encoded data removed]",
      "text/plain": [
       "<Figure size 432x288 with 1 Axes>"
      ]
     },
     "metadata": {
      "needs_background": "light"
     },
     "output_type": "display_data"
    }
   ],
   "source": [
    "t = np.linspace(0, 11)\n",
    "f2_val = f2(t)\n",
    "g2_val = g2(t)\n",
    "plt.title('Input vs. Functions')\n",
    "plt.xlabel('Input')\n",
    "plt.ylabel('Brick/Pyramid Functions')\n",
    "plt.plot(t, f2_val, 'y', marker='o', markersize=3, markeredgecolor='g', label='Brick Function')\n",
    "plt.plot(t, g2_val, 'c', marker='o', markersize=3, markeredgecolor='r', label='Pyramid Function')\n",
    "plt.xlim(0, 11)\n",
    "plt.legend(loc='upper left')\n",
    "plt.show()"
   ]
  },
  {
   "cell_type": "markdown",
   "metadata": {},
   "source": [
    "#### Discussion\n",
    "Even if it costs 3/4 of 1¢ per cubic centimeter, the curves representing functions $f_2(x)$ and $g_2(x)$ intersect at $x = 8$ as drawn above."
   ]
  },
  {
   "cell_type": "code",
   "execution_count": null,
   "metadata": {},
   "outputs": [],
   "source": []
  }
 ],
 "metadata": {
  "kernelspec": {
   "display_name": "Python 3",
   "language": "python",
   "name": "python3"
  },
  "language_info": {
   "codemirror_mode": {
    "name": "ipython",
    "version": 3
   },
   "file_extension": ".py",
   "mimetype": "text/x-python",
   "name": "python",
   "nbconvert_exporter": "python",
   "pygments_lexer": "ipython3",
   "version": "3.7.0"
  }
 },
 "nbformat": 4,
 "nbformat_minor": 2
}
